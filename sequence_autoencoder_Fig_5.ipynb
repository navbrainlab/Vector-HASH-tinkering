{
 "cells": [
  {
   "cell_type": "markdown",
   "metadata": {},
   "source": [
    "# Sequence Autoencoder Experiment (Figure 5)\n",
    "\n",
    "## Experiment Overview\n",
    "\n",
    "This notebook implements the sequence learning experiment from Figure 5 of the Vector-HaSH paper. The experiment demonstrates how deep autoencoders can learn to predict sequential patterns from neural activity, and evaluates the capacity limits and robustness of sequence learning under different conditions.\n",
    "\n",
    "## Key Concepts\n",
    "\n",
    "**Sequence Learning**: The ability to learn temporal dependencies in data, where the network predicts the next pattern in a sequence based on the current pattern.\n",
    "\n",
    "**Autoencoder Architecture**: A neural network that compresses input data into a lower-dimensional latent representation (encoding) and then reconstructs the original data (decoding).\n",
    "\n",
    "**Pattern Capacity**: The maximum number of sequential patterns a network can reliably learn and reproduce without significant degradation in performance.\n",
    "\n",
    "**Nonlinearity Effects**: How applying sign nonlinearity at each timestep affects the network's ability to maintain sequential coherence.\n",
    "\n",
    "## Core Parameter Reference Table\n",
    "\n",
    "| Parameter Category | Parameter | Shape | Meaning | Row/Column Details |\n",
    "|-------------------|-----------|-------|---------|-------------------|\n",
    "| **Network Architecture** | `Np` | scalar | Hidden layer size (Place cells) | 275 - Intermediate representation layer |\n",
    "| | `Ng` | scalar | Latent layer size (Grid cells) | 38 - Compressed representation bottleneck |\n",
    "| | `Ns` | scalar | Input/Output dimension | 900 - Sensory input dimension |\n",
    "| | `Npatts` | scalar | Number of patterns in sequence | Variable (1-3600) - Sequence length |\n",
    "| **Data Structures** | `sbook` | (Npatts, Ns) | Sequence pattern codebook | Each `sbook[i,:]` = binary pattern for sequence step i |\n",
    "| | `true_data` | (Npatts, Ns) | Ground truth sequence data | Clean reference patterns for training |\n",
    "| | `cts_corrupt` | (Npatts, Ns) | Corrupted input data | Noisy version of true_data for testing |\n",
    "| | `decoded_data` | (Npatts, Ns) | Network predictions | Sequential predictions from autoencoder |\n",
    "| **Training Parameters** | `Npatts_list` | (72,) | Pattern count sweep | Range from 1 to 3600 in steps of 50 |\n",
    "| | `nruns` | scalar | Number of experimental runs | 3 - For statistical averaging |\n",
    "| | `epochs` | scalar | Training iterations | 1000 - Autoencoder training epochs |\n",
    "| **Noise Parameters** | `test_noise_frac` | scalar | Corruption probability | 0.0 - No noise condition |\n",
    "| | `test_noise_frac1` | scalar | Corruption probability with nonlin | 0.0 - With sign nonlinearity |\n",
    "| | `p` | scalar | Noise parameter in corrupt_p | Controls corruption intensity |\n",
    "| **Performance Metrics** | `final_clean_overlap_list` | (72, 3) | Clean condition results | Each `[i,j]` = overlap for Npatts_list[i], run j |\n",
    "| | `final_noisy_overlap_list` | (72, 3) | Noisy condition results | Performance with sign nonlinearity |\n",
    "| | `overlap` | scalar | Pattern similarity measure | Normalized dot product between patterns |\n",
    "\n",
    "## Key Relations\n",
    "\n",
    "### Network Capacity Relations\n",
    "- **`Npatts ≤ Ng`**: For optimal performance, sequence length should not exceed latent dimension\n",
    "- **`Compression ratio = Ns/Ng`**: 900/38 ≈ 23.7× compression from input to latent space\n",
    "- **`Information bottleneck`**: Ng dimensions must capture essence of Npatts×Ns information\n",
    "\n",
    "### Sequence Learning Relations\n",
    "- **`decoded_data[i] = f(decoded_data[i-1])`**: Each prediction depends on previous step\n",
    "- **`true_data[:-1] → true_data[1:]`**: Training on (input, target) pairs from consecutive sequence steps\n",
    "- **`Sequential dependency`**: Network learns temporal structure, not just static patterns\n",
    "\n",
    "### Performance Relations\n",
    "- **`overlap = ⟨x̂, x⟩ / (||x̂|| ||x||)`**: Normalized similarity between predicted and true patterns\n",
    "- **`capacity limit`**: Performance degrades when Npatts exceeds network representational capacity\n",
    "- **`nonlinearity effect`**: Sign function at each step may help or hinder sequence coherence\n",
    "\n",
    "## Experimental Design\n",
    "\n",
    "### 1. Autoencoder Architecture\n",
    "- **Encoder**: Ns → Np → Ng (900 → 275 → 38 neurons)\n",
    "- **Decoder**: Ng → Np → Ns (38 → 275 → 900 neurons)\n",
    "- **Activation**: Tanh nonlinearity for smooth gradients\n",
    "\n",
    "### 2. Sequence Learning Protocol\n",
    "- **Training**: Learn to predict next pattern from current pattern\n",
    "- **Testing**: Generate full sequence from initial pattern\n",
    "- **Evaluation**: Compare generated sequences to ground truth\n",
    "\n",
    "### 3. Capacity Analysis\n",
    "- **Pattern sweep**: Test sequence lengths from 1 to 3600 patterns\n",
    "- **Multiple runs**: Average over 3 independent experiments\n",
    "- **Noise conditions**: Compare clean vs. sign-nonlinearity conditions\n",
    "\n",
    "### 4. Performance Metrics\n",
    "- **Overlap measure**: Normalized correlation between predicted and true patterns\n",
    "- **Capacity curves**: Performance vs. sequence length plots\n",
    "- **Statistical analysis**: Mean and variance across runs"
   ]
  },
  {
   "cell_type": "code",
   "execution_count": 8,
   "metadata": {
    "id": "pAZmzYxRqmcu"
   },
   "outputs": [],
   "source": [
    "import matplotlib.pyplot as plt\n",
    "import numpy as np\n",
    "import pandas as pd\n",
    "import tensorflow as tf\n",
    "\n",
    "from sklearn.metrics import accuracy_score, precision_score, recall_score\n",
    "from sklearn.model_selection import train_test_split\n",
    "from tensorflow.keras import layers, losses\n",
    "from tensorflow.keras.datasets import fashion_mnist\n",
    "from tensorflow.keras.models import Model"
   ]
  },
  {
   "cell_type": "markdown",
   "metadata": {},
   "source": [
    "$\\textcolor{red}{Ji \\ Lab \\ newly \\ added}$:\n",
    "\n",
    "If you are using a Windows system and encounter the following warning：\n",
    "\n",
    "\n",
    "`findfont: Generic family 'sans-serif' not found because none of the following families were found: Helvetica`\n",
    "\n",
    "please run the next cell regarding font configuration."
   ]
  },
  {
   "cell_type": "code",
   "execution_count": null,
   "metadata": {},
   "outputs": [],
   "source": [
    "plt.style.use('./src/presentation.mplstyle')\n",
    "plt.rcParams['font.sans-serif'] = ['Arial'] \n",
    "plt.rcParams['axes.unicode_minus'] = False "
   ]
  },
  {
   "cell_type": "markdown",
   "metadata": {},
   "source": [
    "## 1. Module Import and Environment Setup\n",
    "\n",
    "Import necessary libraries for deep learning and sequence analysis:\n",
    "\n",
    "### Core Libraries\n",
    "- **numpy**: Numerical computations and array operations\n",
    "- **matplotlib**: Plotting and visualization for performance curves\n",
    "- **pandas**: Data manipulation and analysis\n",
    "- **tensorflow**: Deep learning framework for autoencoder implementation\n",
    "\n",
    "### Machine Learning Components\n",
    "- **sklearn**: Performance metrics (accuracy, precision, recall) and data splitting\n",
    "- **tensorflow.keras**: High-level neural network API for model construction\n",
    "- **layers, losses**: Neural network building blocks and loss functions\n",
    "- **Model**: Base class for custom autoencoder architecture\n",
    "\n",
    "### Data Source\n",
    "- **fashion_mnist**: Though imported, not used in this experiment (legacy import)\n",
    "- **custom data**: Experiment uses binary pattern sequences for testing"
   ]
  },
  {
   "cell_type": "markdown",
   "metadata": {
    "jp-MarkdownHeadingCollapsed": true,
    "tags": []
   },
   "source": [
    "## 2. Data Loading and Utility Functions\n",
    "\n",
    "### 2.1 Data Loading and Preprocessing\n",
    "\n",
    "Load pre-processed sensory data and define utility functions for sequence learning experiments:"
   ]
  },
  {
   "cell_type": "code",
   "execution_count": 9,
   "metadata": {
    "id": "8f1svsrXb5YZ"
   },
   "outputs": [],
   "source": [
    "data_features = np.load('BW_miniimagenet_3600_60_60.npy').reshape((3600,3600))"
   ]
  },
  {
   "cell_type": "markdown",
   "metadata": {},
   "source": [
    "### 2.2 Sensory Data Loading\n",
    "\n",
    "Load pre-processed Mini-ImageNet dataset for sequence learning experiments:\n",
    "\n",
    "**Data source**: `BW_miniimagenet_3600_60_60.npy` contains black-and-white processed Mini-ImageNet images\n",
    "**Original shape**: 3600 images of 60×60 pixels each\n",
    "**Reshaping**: Convert to (3600, 3600) matrix where each row is a flattened image\n",
    "**Purpose**: This large sensory codebook provides diverse patterns for sequence learning experiments"
   ]
  },
  {
   "cell_type": "code",
   "execution_count": 10,
   "metadata": {
    "id": "HXzYJ9y-vaiz"
   },
   "outputs": [],
   "source": [
    "def corrupt_p(codebook,p=0.1,booktype='01'):\n",
    "  rand_indices = np.sign(np.random.uniform(size=codebook.shape)- p )\n",
    "  if booktype=='-11':\n",
    "    return np.multiply(codebook,rand_indices)\n",
    "  elif booktype=='01':\n",
    "    return abs(codebook - 0.5*(-rand_indices+1))\n",
    "  elif booktype=='cts':\n",
    "    return codebook + np.random.normal(0,1,size=codebook.shape)*p\n",
    "  else:\n",
    "    print(\"codebook should be -11; 01; or cts\")\n",
    "    return 0\n"
   ]
  },
  {
   "cell_type": "markdown",
   "metadata": {},
   "source": [
    "### 2.3 Noise Corruption Function\n",
    "\n",
    "Define function to add controlled noise to test pattern robustness:\n",
    "\n",
    "**Purpose**: `corrupt_p` function adds different types of noise to test data\n",
    "**Parameters**:\n",
    "- `codebook`: Input data matrix to be corrupted\n",
    "- `p`: Noise probability/intensity (0.0 = no noise, 1.0 = maximum noise)\n",
    "- `booktype`: Type of corruption applied\n",
    "\n",
    "**Noise Types**:\n",
    "- **`'-11'`**: Bipolar corruption - randomly flip signs of elements\n",
    "- **`'01'`**: Binary corruption - randomly flip 0/1 values  \n",
    "- **`'cts'`**: Continuous corruption - add Gaussian noise\n",
    "\n",
    "**Implementation**: Uses random thresholding to determine which elements get corrupted"
   ]
  },
  {
   "cell_type": "code",
   "execution_count": 11,
   "metadata": {
    "id": "H9_eSBQ2ck1o"
   },
   "outputs": [],
   "source": [
    "sbook = data_features - np.mean(data_features.flatten())"
   ]
  },
  {
   "cell_type": "markdown",
   "metadata": {},
   "source": [
    "### 2.4 Data Preprocessing\n",
    "$\\textcolor{red}{Ji \\ lab \\ newly\\ adds\\ : \\ the \\ original \\ code \\ forgot \\ the \\ definition \\ of }$ `Npatts` `Ns`\n",
    "\n",
    "Center the sensory data by removing the mean:\n",
    "\n",
    "**Centering operation**: Subtract global mean from all data points\n",
    "\n",
    "**Purpose**: Zero-center the data for better neural network training performance\n",
    "\n",
    "**Result**: `sbook` becomes mean-centered version of loaded Mini-ImageNet features"
   ]
  },
  {
   "cell_type": "code",
   "execution_count": null,
   "metadata": {
    "id": "819PxRVTYbSQ"
   },
   "outputs": [],
   "source": [
    "######\n",
    "Npatts = 3600\n",
    "Ns = 3600\n",
    "######\n",
    "sbook = np.sign(np.random.uniform(size=(Npatts,Ns))-0.5)\n",
    "sbook = 0.5*(sbook+1)"
   ]
  },
  {
   "cell_type": "markdown",
   "metadata": {},
   "source": [
    "### 2.5 Random Binary Pattern Generation\n",
    "\n",
    "Generate random binary patterns for controlled sequence learning experiments:\n",
    "\n",
    "**Pattern generation**:\n",
    "1. **Random signs**: `np.sign(np.random.uniform(...) - 0.5)` creates ±1 values\n",
    "2. **Binary conversion**: `0.5*(sbook + 1)` converts ±1 to 0/1 format\n",
    "3. **Result**: `sbook` becomes a matrix of random binary patterns\n",
    "\n",
    "**Purpose**: Creates standardized test sequences with known statistical properties\n",
    "**Advantage**: Unlike real image data, these patterns have controlled complexity for capacity analysis"
   ]
  },
  {
   "cell_type": "code",
   "execution_count": 13,
   "metadata": {
    "id": "N1LGpuUQmSgu"
   },
   "outputs": [],
   "source": [
    "def cleanup(s, sbook):\n",
    "  idx = np.argmax(sbook@s)\n",
    "  sclean = sbook[idx,:]\n",
    "  return sclean"
   ]
  },
  {
   "cell_type": "markdown",
   "metadata": {},
   "source": [
    "### 2.6 Pattern Cleanup Function\n",
    "\n",
    "Implement pattern cleanup using nearest neighbor search in the codebook:\n",
    "\n",
    "**Function**: `cleanup(s, sbook)` finds the closest stored pattern to a noisy input\n",
    "**Algorithm**:\n",
    "1. **Similarity search**: Compute dot product `sbook @ s` for all stored patterns\n",
    "2. **Best match**: Find index of pattern with highest similarity\n",
    "3. **Clean output**: Return the exact stored pattern (noise-free version)\n",
    "\n",
    "**Purpose**: This implements a form of associative memory cleanup, similar to Hopfield networks\n",
    "**Use case**: Recovery of clean patterns from corrupted network outputs"
   ]
  },
  {
   "cell_type": "code",
   "execution_count": 14,
   "metadata": {
    "id": "bAeGvhup90_1"
   },
   "outputs": [],
   "source": [
    "def binarize(data,bin_type='01'):\n",
    "  if bin_type=='01':\n",
    "    return 0.5*(np.sign(data - 0.5)+1)\n",
    "  elif bin_type=='-11':\n",
    "    return np.sign(data)"
   ]
  },
  {
   "cell_type": "markdown",
   "metadata": {},
   "source": [
    "### 2.7 Data Binarization Function\n",
    "\n",
    "Convert continuous data to binary format using threshold operations:\n",
    "\n",
    "**Function**: `binarize(data, bin_type)` applies different binarization schemes\n",
    "**Binary types**:\n",
    "- **`'01'`**: Convert to 0/1 format - threshold at 0.5, output ∈ {0, 1}\n",
    "- **`'-11'`**: Convert to ±1 format - threshold at 0, output ∈ {-1, +1}\n",
    "\n",
    "**Implementation**:\n",
    "- Uses sign function for thresholding\n",
    "- Applies appropriate scaling to achieve desired output range\n",
    "**Purpose**: Ensures network outputs match the expected binary pattern format"
   ]
  },
  {
   "cell_type": "code",
   "execution_count": 15,
   "metadata": {
    "id": "Zu96dBJ47JO3"
   },
   "outputs": [],
   "source": [
    "def get_error(x,y):\n",
    "  if x.shape != y.shape:\n",
    "    return \"error\"\n",
    "  return np.sum(abs(x-y))/np.prod(x.shape)"
   ]
  },
  {
   "cell_type": "markdown",
   "metadata": {},
   "source": [
    "### 2.8 Performance Evaluation Functions\n",
    "\n",
    "Define metrics to quantify sequence learning performance:\n",
    "\n",
    "#### Error Rate Calculation\n",
    "**Function**: `get_error(x, y)` computes normalized L1 distance between patterns\n",
    "\n",
    "**Formula**: Sum of absolute differences divided by total number of elements\n",
    "\n",
    "**Range**: [0, 1] where 0 = perfect match, 1 = maximum difference\n",
    "\n",
    "**Use**: Measures reconstruction accuracy in binary pattern matching"
   ]
  },
  {
   "cell_type": "code",
   "execution_count": 16,
   "metadata": {
    "id": "0itSdsqItHHa"
   },
   "outputs": [],
   "source": [
    "def get_mse(x,y):\n",
    "  if x.shape != y.shape:\n",
    "    return \"error\"\n",
    "  return np.average((x-y)**2.)"
   ]
  },
  {
   "cell_type": "markdown",
   "metadata": {},
   "source": [
    "#### Mean Squared Error Calculation\n",
    "**Function**: `get_mse(x, y)` computes L2 distance between continuous patterns  \n",
    "\n",
    "**Formula**: Average of squared differences between corresponding elements\n",
    "\n",
    "**Range**: [0, ∞] where 0 = perfect match, larger values = greater difference\n",
    "\n",
    "**Use**: Standard neural network training metric for continuous outputs"
   ]
  },
  {
   "cell_type": "code",
   "execution_count": null,
   "metadata": {
    "id": "dcqWqUQsoDeQ"
   },
   "outputs": [],
   "source": [
    "def get_overlap(x,y):\n",
    "  if x.shape != y.shape:\n",
    "    return \"error\"\n",
    "  ###Row vector normalisation\n",
    "  x = (x/np.linalg.norm(x,axis=1)[:,None])\n",
    "  y = (y/np.linalg.norm(y,axis=1)[:,None])\n",
    "  return np.average(np.einsum('ij,ij->i',x,y))"
   ]
  },
  {
   "cell_type": "markdown",
   "metadata": {},
   "source": [
    "#### Pattern Overlap Calculation\n",
    "**Function**: `get_overlap(x, y)` computes normalized correlation between pattern sets\n",
    "**Algorithm**:\n",
    "1. **Normalization**: Divide each pattern by its L2 norm (unit vectors)\n",
    "2. **Dot product**: Compute element-wise product and sum for each pattern pair  \n",
    "3. **Average**: Mean overlap across all pattern pairs\n",
    "\n",
    "**Range**: [-1, 1] where 1 = perfect positive correlation, -1 = perfect anti-correlation, 0 = uncorrelated\n",
    "\n",
    "**Use**: Primary performance metric for sequence learning - measures pattern similarity"
   ]
  },
  {
   "cell_type": "markdown",
   "metadata": {},
   "source": [
    "## 3. Sequence Learning Capacity Experiment\n",
    "\n",
    "### 3.1 Binary Pattern Sequence Learning\n",
    "\n",
    "This section implements the core experiment measuring autoencoder capacity for learning sequential binary patterns:\n",
    "\n",
    "**Experimental design**:\n",
    "- **Capacity sweep**: Test sequence lengths from 1 to 3600 patterns  \n",
    "- **Statistical robustness**: Run 3 independent trials for each condition\n",
    "- **Nonlinearity comparison**: Test with and without sign nonlinearity at each timestep\n",
    "- **Performance metric**: Pattern overlap between generated and true sequences"
   ]
  },
  {
   "cell_type": "code",
   "execution_count": null,
   "metadata": {
    "colab": {
     "background_save": true,
     "base_uri": "https://localhost:8080/"
    },
    "id": "2DpR7HthahtS",
    "outputId": "f9c388ef-05f9-4644-caca-61c50ceaef85"
   },
   "outputs": [
    {
     "name": "stderr",
     "output_type": "stream",
     "text": [
      "  0%|          | 0/72 [00:00<?, ?it/s]d:\\softwares\\Anaconda3\\Lib\\site-packages\\keras\\src\\trainers\\epoch_iterator.py:164: UserWarning: Your input ran out of data; interrupting training. Make sure that your dataset or generator can generate at least `steps_per_epoch * epochs` batches. You may need to use the `.repeat()` function when building your dataset.\n",
      "  self._interrupted_warning()\n",
      "100%|██████████| 72/72 [2:12:32<00:00, 110.45s/it]\n",
      "100%|██████████| 72/72 [2:12:45<00:00, 110.63s/it]\n",
      "100%|██████████| 72/72 [2:12:58<00:00, 110.81s/it]\n"
     ]
    }
   ],
   "source": [
    "###Sequences\n",
    "\n",
    "import tqdm\n",
    "Npatts_list = np.arange(1,3601,50)\n",
    "nruns = 3\n",
    "first_clean_overlap_list = np.zeros((Npatts_list.shape[0],nruns))\n",
    "final_clean_overlap_list = np.zeros((Npatts_list.shape[0],nruns))\n",
    "first_noisy_overlap_list = np.zeros((Npatts_list.shape[0],nruns))\n",
    "final_noisy_overlap_list = np.zeros((Npatts_list.shape[0],nruns))\n",
    "verbose=False\n",
    "\n",
    "for nidx in (range(nruns)):\n",
    "  for idx,Npatts in enumerate(tqdm.tqdm(Npatts_list)):\n",
    "    if verbose:\n",
    "      print(\"xxxxx nidx = \"+str(nidx))\n",
    "      print(\"xxxxx idx = \"+str(idx))\n",
    "      print(\"xxxxx Npatts = \"+str(Npatts))\n",
    "    Ng=38#9+16+25\n",
    "    Np=275#400\n",
    "    Ns=900#3600\n",
    "    # Npatts=200\n",
    "    data_shape = Ns\n",
    "    test_noise_frac=0.0\n",
    "    test_noise_frac1=0.0#0.025   ###Second case will be used to apply sign nonlinearity at each timestep\n",
    "\n",
    "    sbook = np.sign(np.random.uniform(size=(Npatts,Ns))-0.5)\n",
    "    \n",
    "\n",
    "    true_data = sbook[:Npatts]   #data_features[:Npatts]   #double_train_data_cts  #train_data_cts   #noise_aug_train_data  #sbook # bin_train[:Npatts] #\n",
    "\n",
    "    class Autoencoder(Model):\n",
    "      def __init__(self, Np,Ng,Ns):\n",
    "        super(Autoencoder, self).__init__()\n",
    "        self.Np = Np\n",
    "        self.Ns = Ns\n",
    "        self.Ng = Ng\n",
    "        self.encoder = tf.keras.Sequential([\n",
    "          layers.Dense(Np, activation='tanh'),\n",
    "          layers.Dense(Ng, activation='tanh'),\n",
    "        ])\n",
    "        self.decoder = tf.keras.Sequential([\n",
    "          layers.Dense(Np, activation='tanh'),\n",
    "          layers.Dense(Ns, activation='tanh')\n",
    "        ])\n",
    "\n",
    "      def call(self, x):\n",
    "        encoded = self.encoder(x)\n",
    "        decoded = self.decoder(encoded)\n",
    "        return decoded\n",
    "\n",
    "    autoencoder = Autoencoder(Np,Ng,Ns)\n",
    "\n",
    "    autoencoder.compile(optimizer='adam', loss=losses.MeanSquaredError())\n",
    "    \n",
    "    ##Input true_data[:-1]: the data from step 1 to the second to last step in the sequence.\n",
    "    ##Target true_data[1:]: Data from step 2 to the last step in the sequence (the pattern for the next moment).\n",
    "    autoencoder.fit(true_data[:-1], true_data[1:], epochs=1000, verbose=0);\n",
    "    \n",
    "    # true_data = sbook  #train_data  #\n",
    "    if verbose: print(\"-------------Testing--1----------------\")\n",
    "    if verbose: print(\"Testing noise percentage = \"+str(test_noise_frac))\n",
    "    cts_corrupt = corrupt_p(true_data,p=test_noise_frac,booktype='-11')\n",
    "\n",
    "    decoded_data = np.zeros_like(true_data)\n",
    "    decoded_data[0] = cts_corrupt[0]\n",
    "\n",
    "    \n",
    "    for ite in range(1,Npatts):\n",
    "      encoded_data = autoencoder.encoder(decoded_data[ite-1,None]).numpy()\n",
    "      decoded_data[ite] = autoencoder.decoder(encoded_data).numpy()\n",
    "    decoded_data = np.sign(decoded_data)\n",
    "\n",
    "    if verbose:\n",
    "      print(\"Np = \"+str(Np))\n",
    "      print(\"Ns = \"+str(Ns))\n",
    "      print(\"Ng = \"+str(Ng))\n",
    "      print(\"Npatts = \"+str(Npatts))\n",
    "\n",
    "\n",
    "      print(\"Initial error: \" + str(get_mse(true_data[:,:data_shape], cts_corrupt[:Npatts,:data_shape])))\n",
    "      print(\"error after one timestep: \" + str(get_mse(true_data[:Npatts,:data_shape],decoded_data1[:Npatts,:data_shape])))\n",
    "      print(\"error after iteration: \" + str(get_mse(true_data[:Npatts,:data_shape],decoded_data[:Npatts,:data_shape])))\n",
    "\n",
    "      print(\"Initial overlap: \" + str(get_overlap(true_data[:,:data_shape], cts_corrupt[:Npatts,:data_shape])))\n",
    "      print(\"overlap after one timestep: \" + str(get_overlap(true_data[:Npatts,:data_shape],decoded_data1[:Npatts,:data_shape])))\n",
    "      print(\"overlap after iteration: \" + str(get_overlap(true_data[:Npatts,:data_shape],decoded_data[:Npatts,:data_shape])))\n",
    "\n",
    "    final_clean_overlap_list[idx,nidx]=get_overlap(true_data[:Npatts,:data_shape],decoded_data[:Npatts,:data_shape])\n",
    "\n",
    "    if verbose: print(\"-------------Testing--2----------------\")\n",
    "    if verbose: print(\"Testing noise percentage = \"+str(test_noise_frac1))\n",
    "    cts_corrupt = corrupt_p(true_data,p=test_noise_frac1,booktype='-11')\n",
    "\n",
    "    decoded_data = np.zeros_like(true_data)\n",
    "    decoded_data[0] = cts_corrupt[0]\n",
    "\n",
    "    \n",
    "    for ite in range(1,Npatts):\n",
    "      encoded_data = autoencoder.encoder(decoded_data[ite-1,None]).numpy()\n",
    "      decoded_data[ite] = np.sign(autoencoder.decoder(encoded_data).numpy())\n",
    "    decoded_data = np.sign(decoded_data)\n",
    "\n",
    "    if verbose:\n",
    "      print(\"Np = \"+str(Np))\n",
    "      print(\"Ns = \"+str(Ns))\n",
    "      print(\"Ng = \"+str(Ng))\n",
    "      print(\"Npatts = \"+str(Npatts))\n",
    "\n",
    "\n",
    "      print(\"Initial error: \" + str(get_mse(true_data[:,:data_shape], cts_corrupt[:Npatts,:data_shape])))\n",
    "      print(\"error after one timestep: \" + str(get_mse(true_data[:Npatts,:data_shape],decoded_data1[:Npatts,:data_shape])))\n",
    "      print(\"error after iteration: \" + str(get_mse(true_data[:Npatts,:data_shape],decoded_data[:Npatts,:data_shape])))\n",
    "\n",
    "      print(\"Initial overlap: \" + str(get_overlap(true_data[:,:data_shape], cts_corrupt[:Npatts,:data_shape])))\n",
    "      print(\"overlap after one timestep: \" + str(get_overlap(true_data[:Npatts,:data_shape],decoded_data1[:Npatts,:data_shape])))\n",
    "      print(\"overlap after iteration: \" + str(get_overlap(true_data[:Npatts,:data_shape],decoded_data[:Npatts,:data_shape])))\n",
    "\n",
    "    final_noisy_overlap_list[idx,nidx]=get_overlap(true_data[:Npatts,:data_shape],decoded_data[:Npatts,:data_shape])\n"
   ]
  },
  {
   "cell_type": "markdown",
   "metadata": {},
   "source": [
    "### 3.2 Main Experimental Loop\n",
    "\n",
    "Execute comprehensive capacity analysis across different sequence lengths and conditions:\n",
    "\n",
    "**Experimental parameters**:\n",
    "- **`Npatts_list`**: Sequence lengths from 1 to 3600 in steps of 50 (72 test points)\n",
    "- **`nruns = 3`**: Independent trials for statistical significance\n",
    "- **Network architecture**: Ns=900 → Np=275 → Ng=38 → Np=275 → Ns=900\n",
    "- **Training**: 1000 epochs with Adam optimizer and MSE loss\n",
    "\n",
    "**Two testing conditions**:\n",
    "1. **Clean condition** (`test_noise_frac=0.0`): No nonlinearity applied during sequence generation\n",
    "2. **Noisy condition** (`test_noise_frac1=0.0`): Sign nonlinearity applied at each timestep\n",
    "\n",
    "**Core algorithm for each condition**:\n",
    "1. **Training phase**: Learn to predict next pattern from current pattern\n",
    "2. **Generation phase**: Generate full sequence starting from first pattern\n",
    "3. **Evaluation phase**: Measure overlap between generated and true sequences\n",
    "\n",
    "**Key insight**: The sign nonlinearity tests whether discretization helps or hurts sequential coherence"
   ]
  },
  {
   "cell_type": "markdown",
   "metadata": {},
   "source": [
    "## 4. Results Visualization and Data Saving\n",
    "\n",
    "### 4.1 Capacity Curve Visualization\n",
    "\n",
    "Plot sequence learning performance as a function of sequence length:"
   ]
  },
  {
   "cell_type": "code",
   "execution_count": 19,
   "metadata": {
    "colab": {
     "base_uri": "https://localhost:8080/",
     "height": 466
    },
    "id": "TxesSTtI2EGo",
    "outputId": "d7717586-6012-4468-dcdd-bd2a9fb0b09b"
   },
   "outputs": [
    {
     "data": {
      "text/plain": [
       "<matplotlib.legend.Legend at 0x153d9946630>"
      ]
     },
     "execution_count": 19,
     "metadata": {},
     "output_type": "execute_result"
    },
    {
     "data": {
      "image/png": "[encoded data removed]",
      "text/plain": [
       "<Figure size 640x480 with 1 Axes>"
      ]
     },
     "metadata": {},
     "output_type": "display_data"
    }
   ],
   "source": [
    "plt.plot(Npatts_list,np.average(final_noisy_overlap_list,axis=1), label='with sgn nonlin')\n",
    "plt.plot(Npatts_list,np.average(final_clean_overlap_list,axis=1), label='without sgn nonlin')\n",
    "# plt.errorbar(Npatts_list,np.average(final_noisy_overlap_list,axis=1),yerr=np.std(final_noisy_overlap_list,axis=1), label='noisy, final')\n",
    "# plt.errorbar(Npatts_list,np.average(final_clean_overlap_list,axis=1),yerr=np.std(final_clean_overlap_list,axis=1), label='clean, final')\n",
    "plt.xlabel('Number of patterns')\n",
    "plt.ylabel('Overlap')\n",
    "plt.legend()"
   ]
  },
  {
   "cell_type": "markdown",
   "metadata": {},
   "source": [
    "### 4.2 Performance Curve Analysis\n",
    "\n",
    "Generate capacity curves showing the effect of sequence length on learning performance:\n",
    "\n",
    "**Plot elements**:\n",
    "- **X-axis**: Number of patterns in sequence (1 to 3600)\n",
    "- **Y-axis**: Average overlap score across 3 runs (performance measure)\n",
    "- **Blue line**: Performance with sign nonlinearity applied at each timestep\n",
    "- **Orange line**: Performance without sign nonlinearity (continuous outputs)\n",
    "\n",
    "**Expected patterns**:\n",
    "- **Capacity limit**: Performance should degrade as sequence length approaches network bottleneck\n",
    "- **Nonlinearity effect**: Sign function may improve robustness but reduce gradual learning\n",
    "- **Critical transition**: Sharp drop in performance when capacity is exceeded\n",
    "\n",
    "**Interpretation**:\n",
    "- High overlap (near 1.0) indicates successful sequence learning\n",
    "- Low overlap indicates network cannot maintain sequential coherence\n",
    "- Comparison reveals whether discrete or continuous representations work better"
   ]
  },
  {
   "cell_type": "code",
   "execution_count": null,
   "metadata": {
    "id": "OZxOUvuCrvPP"
   },
   "outputs": [],
   "source": [
    "np.save(\"seq_wo_sgn_overlap_list_Np_\"+str(Np)+\"_Ns_\"+str(Ns)+\"_Ng_\"+str(Ng)+\"_nruns_\"+str(nruns)+\".npy\", final_clean_overlap_list)\n",
    "np.save(\"seq_w_sgn_overlap_list_Np_\"+str(Np)+\"_Ns_\"+str(Ns)+\"_Ng_\"+str(Ng)+\"_nruns_\"+str(nruns)+\".npy\", final_noisy_overlap_list)\n",
    "np.save(\"Npatts_list_seq.npy\", Npatts_list)\n",
    "\n"
   ]
  },
  {
   "cell_type": "markdown",
   "metadata": {},
   "source": [
    "### 4.3 Experimental Data Preservation\n",
    "\n",
    "Save experimental results for later analysis and comparison:\n",
    "\n",
    "**Saved files**:\n",
    "- **`seq_wo_sgn_overlap_list_*.npy`**: Performance data without sign nonlinearity\n",
    "- **`seq_w_sgn_overlap_list_*.npy`**: Performance data with sign nonlinearity  \n",
    "- **`Npatts_list_seq.npy`**: Sequence length values used in experiment\n",
    "\n",
    "**Filename encoding**: Includes network architecture parameters (Np, Ns, Ng) and number of runs for full reproducibility\n",
    "\n",
    "**Purpose**: \n",
    "- **Reproducibility**: Results can be reloaded and replotted without re-running experiments\n",
    "- **Comparison**: Different network architectures can be compared systematically\n",
    "- **Statistical analysis**: Raw data available for error bars, significance testing, etc."
   ]
  }
 ],
 "metadata": {
  "accelerator": "GPU",
  "colab": {
   "provenance": []
  },
  "kernelspec": {
   "display_name": "base",
   "language": "python",
   "name": "python3"
  },
  "language_info": {
   "codemirror_mode": {
    "name": "ipython",
    "version": 3
   },
   "file_extension": ".py",
   "mimetype": "text/x-python",
   "name": "python",
   "nbconvert_exporter": "python",
   "pygments_lexer": "ipython3",
   "version": "3.12.7"
  }
 },
 "nbformat": 4,
 "nbformat_minor": 4
}
